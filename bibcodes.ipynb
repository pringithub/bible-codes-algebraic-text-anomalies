{
 "cells": [
  {
   "cell_type": "code",
   "execution_count": 1,
   "metadata": {},
   "outputs": [
    {
     "name": "stdout",
     "output_type": "stream",
     "text": [
      "The text is 927 chars long.\n",
      "The dictionary is 3847 words long.\n"
     ]
    }
   ],
   "source": [
    "import json\n",
    "\n",
    "def load_english_dictionary(filename):\n",
    "    with open(filename) as json_data:\n",
    "        dict = json.load(json_data)\n",
    "    \n",
    "    return dict\n",
    "\n",
    "def load_textfile(filename):\n",
    "    file = open(filename,\"r\") \n",
    "    text = file.read() \n",
    "    non_alpha_chars = [\" \",\".\",\",\",\"-\",\"—\",\"\\\"\",\"\\n\",\"'\", \\\n",
    "                       \":\",\";\",\"?\",\"!\",\"@\",\"#\",\"$\",\"%\",\"&\",\"*\"]\n",
    "    for char in non_alpha_chars:\n",
    "        text = text.replace(char,\"\")\n",
    "    text = text.lower()\n",
    " \n",
    "    return text\n",
    "\n",
    "\n",
    "text = load_textfile(\"sidd.txt\")\n",
    "dict = load_english_dictionary(\"words_dictionary.json\")\n",
    "\n",
    "print('The text is {} chars long.'.format(len(text)))\n",
    "print('The dictionary is {} words long.'.format(len(dict)))"
   ]
  },
  {
   "cell_type": "code",
   "execution_count": 2,
   "metadata": {
    "scrolled": true
   },
   "outputs": [
    {
     "name": "stdout",
     "output_type": "stream",
     "text": [
      "Forward Total elapsed time : 106.17s\n",
      "Forward+Reverse Total elapsed time : 208.72s\n"
     ]
    }
   ],
   "source": [
    "import math\n",
    "import time\n",
    "\n",
    "found_words = {}\n",
    "round_times = []\n",
    "\n",
    "def reverse_string(text):\n",
    "    return text[::-1]\n",
    "\n",
    "def one_pass(text, found_words, round_times, isReversed):\n",
    "\n",
    "    MIN_WORD_LENGTH = 3\n",
    "    START_ALGO_AT_X_LETTERS_APART = 2\n",
    "    MAX_FOUND_WORD_LENGTH = 20\n",
    "\n",
    "    found_words = {}\n",
    "\n",
    "    for stride in range(START_ALGO_AT_X_LETTERS_APART,math.floor(len(text)/MIN_WORD_LENGTH)): \n",
    "        t = time.time()    \n",
    "\n",
    "        for every_other_arr_start_idx in range(0,stride):       \n",
    "            arr = text[every_other_arr_start_idx::stride] # save the every x other\n",
    "            for start_idx in range(0,len(arr)):\n",
    "\n",
    "                for end_idx in range((start_idx+1),min((start_idx+MAX_FOUND_WORD_LENGTH),len(arr)+1)):\n",
    "                    word = arr[start_idx:end_idx]\n",
    "                    if word in dict:\n",
    "                        if len(word)>=MIN_WORD_LENGTH:\n",
    "                            #                        \n",
    "                            word_positions = [(start_idx*stride)+every_other_arr_start_idx,\\\n",
    "                                              ((end_idx-1)*stride)+every_other_arr_start_idx,\\\n",
    "                                              stride]\n",
    "                            if isReversed: # NOTE: NOT TESTED :)\n",
    "                                word_positions[0] = len(text)-1-word_positions[0]\n",
    "                                word_positions[1] = len(text)-1-word_positions[1]\n",
    "                                \n",
    "                            if word in found_words:\n",
    "                                found_words[word].append([word_positions])\n",
    "                            else:\n",
    "                                found_words[word] = [[word_positions]]\n",
    "                            #print('{} : {},{},    {}'.format(word,stride,start_idx,word_positions))\n",
    "\n",
    "        elapsed = time.time() - t\n",
    "        round_times.append(elapsed)\n",
    "        #print('Round {} : {:.2f}s'.format(stride,elapsed))\n",
    "        \n",
    "    return found_words, round_times\n",
    "\n",
    "total_time = time.time()\n",
    "found_words, round_times = one_pass(text, found_words, round_times, False)                  #forward pass\n",
    "total_elapsed = time.time() - total_time\n",
    "print('Forward Total elapsed time : {:.2f}s'.format(total_elapsed))\n",
    "\n",
    "reversed_found_words, round_times = one_pass(reverse_string(text), found_words, round_times, True)   #reverse pass     \n",
    "total_elapsed = time.time() - total_time\n",
    "print('Forward+Reverse Total elapsed time : {:.2f}s'.format(total_elapsed))\n",
    "\n"
   ]
  },
  {
   "cell_type": "code",
   "execution_count": 3,
   "metadata": {},
   "outputs": [
    {
     "name": "stdout",
     "output_type": "stream",
     "text": [
      "# Distinct words found : 622\n"
     ]
    }
   ],
   "source": [
    "all_found_words = {**found_words,**reversed_found_words}\n",
    "print('# Distinct words found : {}'.format(len(all_found_words)))\n",
    "#print('# Distinct non-words found : {}'.format(len(non_words)))"
   ]
  },
  {
   "cell_type": "code",
   "execution_count": 4,
   "metadata": {},
   "outputs": [],
   "source": [
    "import pandas as pd\n",
    "\n",
    "stats = []\n",
    "found_words_list = []\n",
    "word_length = []\n",
    "for word in all_found_words:\n",
    "    stats.append( len(all_found_words[word]) )\n",
    "    found_words_list.append( word )\n",
    "    word_length.append( len(word) )\n",
    "    #print('{} {}'.format(len(found_words[word]),word))\n",
    "    \n",
    "d = {'num_found': stats, 'word': found_words_list, 'word_length' : word_length}\n",
    "df = pd.DataFrame(data=d)"
   ]
  },
  {
   "cell_type": "code",
   "execution_count": 5,
   "metadata": {
    "scrolled": true
   },
   "outputs": [
    {
     "data": {
      "text/html": [
       "<div>\n",
       "<style scoped>\n",
       "    .dataframe tbody tr th:only-of-type {\n",
       "        vertical-align: middle;\n",
       "    }\n",
       "\n",
       "    .dataframe tbody tr th {\n",
       "        vertical-align: top;\n",
       "    }\n",
       "\n",
       "    .dataframe thead th {\n",
       "        text-align: right;\n",
       "    }\n",
       "</style>\n",
       "<table border=\"1\" class=\"dataframe\">\n",
       "  <thead>\n",
       "    <tr style=\"text-align: right;\">\n",
       "      <th></th>\n",
       "      <th>num_found</th>\n",
       "      <th>word</th>\n",
       "      <th>word_length</th>\n",
       "    </tr>\n",
       "  </thead>\n",
       "  <tbody>\n",
       "    <tr>\n",
       "      <th>542</th>\n",
       "      <td>1</td>\n",
       "      <td>another</td>\n",
       "      <td>7</td>\n",
       "    </tr>\n",
       "    <tr>\n",
       "      <th>361</th>\n",
       "      <td>1</td>\n",
       "      <td>spirit</td>\n",
       "      <td>6</td>\n",
       "    </tr>\n",
       "    <tr>\n",
       "      <th>398</th>\n",
       "      <td>1</td>\n",
       "      <td>waiter</td>\n",
       "      <td>6</td>\n",
       "    </tr>\n",
       "    <tr>\n",
       "      <th>215</th>\n",
       "      <td>1</td>\n",
       "      <td>estate</td>\n",
       "      <td>6</td>\n",
       "    </tr>\n",
       "    <tr>\n",
       "      <th>533</th>\n",
       "      <td>1</td>\n",
       "      <td>inside</td>\n",
       "      <td>6</td>\n",
       "    </tr>\n",
       "    <tr>\n",
       "      <th>555</th>\n",
       "      <td>1</td>\n",
       "      <td>secure</td>\n",
       "      <td>6</td>\n",
       "    </tr>\n",
       "    <tr>\n",
       "      <th>397</th>\n",
       "      <td>1</td>\n",
       "      <td>cancel</td>\n",
       "      <td>6</td>\n",
       "    </tr>\n",
       "    <tr>\n",
       "      <th>355</th>\n",
       "      <td>1</td>\n",
       "      <td>sheet</td>\n",
       "      <td>5</td>\n",
       "    </tr>\n",
       "    <tr>\n",
       "      <th>382</th>\n",
       "      <td>1</td>\n",
       "      <td>tooth</td>\n",
       "      <td>5</td>\n",
       "    </tr>\n",
       "    <tr>\n",
       "      <th>350</th>\n",
       "      <td>2</td>\n",
       "      <td>stone</td>\n",
       "      <td>5</td>\n",
       "    </tr>\n",
       "  </tbody>\n",
       "</table>\n",
       "</div>"
      ],
      "text/plain": [
       "     num_found     word  word_length\n",
       "542          1  another            7\n",
       "361          1   spirit            6\n",
       "398          1   waiter            6\n",
       "215          1   estate            6\n",
       "533          1   inside            6\n",
       "555          1   secure            6\n",
       "397          1   cancel            6\n",
       "355          1    sheet            5\n",
       "382          1    tooth            5\n",
       "350          2    stone            5"
      ]
     },
     "execution_count": 5,
     "metadata": {},
     "output_type": "execute_result"
    }
   ],
   "source": [
    "df = df.sort_values(by='word_length',ascending=False)\n",
    "df.head(10)"
   ]
  },
  {
   "cell_type": "code",
   "execution_count": 6,
   "metadata": {},
   "outputs": [
    {
     "data": {
      "text/plain": [
       "'e'"
      ]
     },
     "execution_count": 6,
     "metadata": {},
     "output_type": "execute_result"
    }
   ],
   "source": [
    "all_found_words['another']\n",
    "text[759-44*5]"
   ]
  },
  {
   "cell_type": "code",
   "execution_count": 10,
   "metadata": {},
   "outputs": [
    {
     "data": {
      "image/png": "[encoded data removed]",
      "text/plain": [
       "<Figure size 432x288 with 1 Axes>"
      ]
     },
     "metadata": {
      "needs_background": "light"
     },
     "output_type": "display_data"
    }
   ],
   "source": [
    "import matplotlib.pyplot as plt\n",
    "import numpy as np\n",
    "\n",
    "sum_words_with_same_length = []\n",
    "\n",
    "max_word_length = max(df.word_length)\n",
    "for i in range(3,max_word_length+1):\n",
    "    sum_words_with_same_length.append(sum(df.word_length==i))\n",
    "    \n",
    "plt.bar(np.arange(3,max_word_length+1),sum_words_with_same_length)\n",
    "plt.xlabel('Word length')\n",
    "plt.ylabel('Number of times word was found')\n",
    "plt.show()"
   ]
  },
  {
   "cell_type": "code",
   "execution_count": 8,
   "metadata": {},
   "outputs": [
    {
     "data": {
      "image/png": "[encoded data removed]",
      "text/plain": [
       "<Figure size 432x288 with 1 Axes>"
      ]
     },
     "metadata": {
      "needs_background": "light"
     },
     "output_type": "display_data"
    }
   ],
   "source": [
    "plt.scatter(df.num_found,df.word_length)\n",
    "plt.xlabel('# Times found')\n",
    "plt.ylabel('Word length')\n",
    "plt.show()"
   ]
  },
  {
   "cell_type": "code",
   "execution_count": 9,
   "metadata": {},
   "outputs": [
    {
     "data": {
      "image/png": "[encoded data removed]",
      "text/plain": [
       "<Figure size 432x288 with 1 Axes>"
      ]
     },
     "metadata": {
      "needs_background": "light"
     },
     "output_type": "display_data"
    }
   ],
   "source": [
    "fig, ax = plt.subplots()\n",
    "rounds = len(round_times)\n",
    "ax.plot(range(2,2+rounds),round_times[:rounds])\n",
    "ax.set(xlabel='Round #', ylabel='Time (s)',\n",
    "       title='Time Taken per Round ({:.2f}s total)'.format(total_elapsed))\n",
    "ax.grid()\n",
    "plt.show()"
   ]
  }
 ],
 "metadata": {
  "kernelspec": {
   "display_name": "Python 3",
   "language": "python",
   "name": "python3"
  },
  "language_info": {
   "codemirror_mode": {
    "name": "ipython",
    "version": 3
   },
   "file_extension": ".py",
   "mimetype": "text/x-python",
   "name": "python",
   "nbconvert_exporter": "python",
   "pygments_lexer": "ipython3",
   "version": "3.7.2"
  }
 },
 "nbformat": 4,
 "nbformat_minor": 2
}
